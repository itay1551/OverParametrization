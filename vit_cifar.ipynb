{
 "cells": [
  {
   "cell_type": "code",
   "execution_count": 1,
   "metadata": {},
   "outputs": [
    {
     "name": "stderr",
     "output_type": "stream",
     "text": [
      "c:\\Users\\itayk\\miniconda3\\envs\\Dcv\\lib\\site-packages\\tqdm\\auto.py:21: TqdmWarning: IProgress not found. Please update jupyter and ipywidgets. See https://ipywidgets.readthedocs.io/en/stable/user_install.html\n",
      "  from .autonotebook import tqdm as notebook_tqdm\n"
     ]
    }
   ],
   "source": [
    "import torch\n",
    "# from vit_pytorch import ViT\n",
    "import torch.nn as nn\n",
    "import matplotlib.pyplot as plt\n",
    "from model import MyViT\n",
    "from torch.utils.data import DataLoader, random_split, Dataset"
   ]
  },
  {
   "cell_type": "code",
   "execution_count": 2,
   "metadata": {},
   "outputs": [],
   "source": [
    "# Set the seed for PyTorch\n",
    "torch.manual_seed(42)\n",
    "torch.cuda.manual_seed(42)"
   ]
  },
  {
   "cell_type": "code",
   "execution_count": 3,
   "metadata": {},
   "outputs": [
    {
     "data": {
      "text/plain": [
       "True"
      ]
     },
     "execution_count": 3,
     "metadata": {},
     "output_type": "execute_result"
    }
   ],
   "source": [
    "torch.cuda.is_available()"
   ]
  },
  {
   "cell_type": "code",
   "execution_count": 4,
   "metadata": {},
   "outputs": [
    {
     "name": "stdout",
     "output_type": "stream",
     "text": [
      "192\n"
     ]
    }
   ],
   "source": [
    "import torch\n",
    "# from vit_pytorch import ViT\n",
    "\n",
    "# vit_model = MyViT(\n",
    "#     image_size = 32,\n",
    "#     patch_size = 8,\n",
    "#     num_classes = 1000,\n",
    "#     dim = 1500,\n",
    "#     depth = 6,\n",
    "#     heads = 16,\n",
    "#     mlp_dim = 1500 * 3,\n",
    "#     dropout = 0,\n",
    "#     # dropout = 0.1,\n",
    "#     emb_dropout = 0,\n",
    "#     # emb_dropout = 0.1,\n",
    "#     channels = 3\n",
    "# )\n",
    "\n",
    "# cifar_8_noise_no_final_layer_3\n",
    "vit_model = MyViT(\n",
    "    image_size = 32,\n",
    "    patch_size = 8,\n",
    "    num_classes = 1000,\n",
    "    dim = 1028,\n",
    "    depth = 6,\n",
    "    heads = 16,\n",
    "    mlp_dim = 1028 * 3,\n",
    "    dropout = 0,\n",
    "    # dropout = 0.1,\n",
    "    emb_dropout = 0,\n",
    "    # emb_dropout = 0.1,\n",
    "    channels = 3\n",
    ")\n",
    "\n",
    "img = torch.randn(1, 1, 28, 28)\n",
    "\n",
    "# BIG\n",
    "# preds = v(img) # (1, 1000)\n",
    "# import torch\n",
    "# # from vit_pytorch import ViT\n",
    "\n",
    "# vit_model = MyViT(\n",
    "#     image_size = 28,\n",
    "#     patch_size = 7,\n",
    "#     num_classes = 1000,\n",
    "#     dim = 2056,\n",
    "#     depth = 4,\n",
    "#     heads = 6,\n",
    "#     mlp_dim = 2056 * 3,\n",
    "#     dropout = 0,\n",
    "#     # dropout = 0.1,\n",
    "#     emb_dropout = 0,\n",
    "#     # emb_dropout = 0.1,\n",
    "#     channels = 1\n",
    "# )\n",
    "\n",
    "# img = torch.randn(1, 1, 28, 28)\n",
    "\n",
    "# # preds = v(img) # (1, 1000)"
   ]
  },
  {
   "cell_type": "code",
   "execution_count": 5,
   "metadata": {},
   "outputs": [
    {
     "name": "stdout",
     "output_type": "stream",
     "text": [
      "Total number of parameters: 64812864\n"
     ]
    }
   ],
   "source": [
    "def count_parameters(model):\n",
    "    return sum(p.numel() for p in model.parameters())\n",
    "\n",
    "total_params = count_parameters(vit_model)\n",
    "print(f'Total number of parameters: {total_params}')\n"
   ]
  },
  {
   "cell_type": "code",
   "execution_count": 7,
   "metadata": {},
   "outputs": [
    {
     "name": "stdout",
     "output_type": "stream",
     "text": [
      "Downloading https://www.cs.toronto.edu/~kriz/cifar-10-python.tar.gz to ./CIFAR_data\\cifar-10-python.tar.gz\n"
     ]
    },
    {
     "name": "stderr",
     "output_type": "stream",
     "text": [
      "100%|██████████| 170498071/170498071 [01:32<00:00, 1846154.90it/s]\n"
     ]
    },
    {
     "name": "stdout",
     "output_type": "stream",
     "text": [
      "Extracting ./CIFAR_data\\cifar-10-python.tar.gz to ./CIFAR_data\n"
     ]
    }
   ],
   "source": [
    "import torch\n",
    "from torchvision import datasets, transforms\n",
    "import torchvision\n",
    "# # Download and load the test data\n",
    "# testset = datasets.MNIST('MNIST_data/', download=True, train=False, transform=transform)\n",
    "# testloader = torch.utils.data.DataLoader(testset, batch_size=64, shuffle=True)\n",
    "# Define a transform to normalize the data\n",
    "transform = transforms.Compose([\n",
    "    transforms.ToTensor(),\n",
    "    transforms.Normalize((0.5, 0.5, 0.5), (0.5, 0.5, 0.5))\n",
    "])\n",
    "\n",
    "# Load the CIFAR-10 training dataset\n",
    "trainset = torchvision.datasets.CIFAR10(\n",
    "    root='./CIFAR_data',\n",
    "    train=True,\n",
    "    download=True,\n",
    "    transform=transform\n",
    ")\n"
   ]
  },
  {
   "cell_type": "code",
   "execution_count": 8,
   "metadata": {},
   "outputs": [],
   "source": [
    "import torch.utils\n",
    "import torch.utils.data\n",
    "\n",
    "\n",
    "train_size = 128\n",
    "train_dataset, test_dataset = random_split(trainset, [train_size, len(trainset) - train_size])\n",
    "\n",
    "train_loader = torch.utils.data.DataLoader(train_dataset, batch_size=128, shuffle=True)\n",
    "test_loader  = torch.utils.data.DataLoader(test_dataset, batch_size=128, shuffle=True)"
   ]
  },
  {
   "cell_type": "code",
   "execution_count": 9,
   "metadata": {},
   "outputs": [],
   "source": [
    "sample_images = next(iter(train_loader))[0]\n",
    "test_samples  = next(iter(test_loader))[0]"
   ]
  },
  {
   "cell_type": "code",
   "execution_count": 10,
   "metadata": {},
   "outputs": [],
   "source": [
    "def print_images(images):\n",
    "    \"\"\"\n",
    "    Prints a batch of images with shape (64, 1, 28, 28) or (64, 3, 28, 28).\n",
    "\n",
    "    Parameters:\n",
    "    images (torch.Tensor): A tensor of shape (64, C, H, W) where C can be 1 (grayscale) or 3 (RGB).\n",
    "    \"\"\"\n",
    "    # Ensure the input is a 4D tensor\n",
    "    if images.ndim == 5:\n",
    "        images = torch.squeeze(images, dim=1)\n",
    "    assert images.ndim == 4, \"Input tensor must be 4-dimensional\"\n",
    "    # Ensure the number of channels is either 1 or 3\n",
    "    assert images.shape[1] in [1, 3], \"Input tensor must have 1 or 3 channels\"\n",
    "    \n",
    "    # Get the number of images in the batch\n",
    "    batch_size = images.shape[0]\n",
    "    \n",
    "    # Define the number of rows and columns for the plot grid\n",
    "    n_cols = 8\n",
    "    n_rows = (batch_size + n_cols - 1) // n_cols\n",
    "    \n",
    "    # Create a figure to hold the subplots\n",
    "    fig, axes = plt.subplots(n_rows, n_cols, figsize=(12, n_rows * 1.5))\n",
    "    \n",
    "    # Flatten the axes array for easy iteration\n",
    "    axes = axes.flatten()\n",
    "    \n",
    "    for i in range(batch_size):\n",
    "        # Get the image and convert it to a numpy array\n",
    "        img = images[i].permute(1, 2, 0).numpy()\n",
    "\n",
    "        # Normalize the image to [0, 1] range\n",
    "        img = (img - img.min()) / (img.max() - img.min())\n",
    "        \n",
    "        # If the image has 1 channel, remove the last dimension\n",
    "        if img.shape[-1] == 1:\n",
    "            img = img.squeeze(-1)\n",
    "        \n",
    "        # Plot the image\n",
    "        axes[i].imshow(img, cmap='gray' if images.shape[1] == 1 else None)\n",
    "        axes[i].axis('off')\n",
    "    \n",
    "    # Remove any remaining empty subplots\n",
    "    for i in range(batch_size, len(axes)):\n",
    "        axes[i].axis('off')\n",
    "    \n",
    "    # Show the plot\n",
    "    plt.tight_layout()\n",
    "    plt.show()"
   ]
  },
  {
   "cell_type": "code",
   "execution_count": 11,
   "metadata": {},
   "outputs": [],
   "source": [
    "# checkpoint_path = './cifar_8_noise_no_final_layer_4/epoch_12500_model_0.00000153.pth'\n",
    "checkpoint_path = './epoch_102500_model_0.00000156.pth'\n",
    "import os\n",
    "if not os.path.isfile(checkpoint_path):\n",
    "    raise FileNotFoundError(f\"Checkpoint file '{checkpoint_path}' not found\")"
   ]
  },
  {
   "cell_type": "code",
   "execution_count": 12,
   "metadata": {},
   "outputs": [],
   "source": [
    "vit_model.load_state_dict(torch.load(checkpoint_path))\n",
    "\n",
    "device = torch.device('cuda' if torch.cuda.is_available() else 'cpu')\n",
    "vit_model.to(device)\n",
    "\n",
    "# Parameters for Gaussian noise\n",
    "mean = 0\n",
    "std_dev = 0.5  # Standard deviation (adjust as needed)"
   ]
  },
  {
   "cell_type": "code",
   "execution_count": null,
   "metadata": {},
   "outputs": [],
   "source": [
    "import torch.optim as optim\n",
    "import torch\n",
    "from tqdm import tqdm\n",
    "\n",
    "# Check if GPU is available and use it\n",
    "device = torch.device('cuda' if torch.cuda.is_available() else 'cpu')\n",
    "# device = torch.device('cpu')\n",
    "\n",
    "# Define loss function and optimizer\n",
    "criterion = nn.MSELoss()\n",
    "\n",
    "optimizer = optim.Adam(vit_model.parameters(), lr=0.00000015)\n",
    "\n",
    "# Define the learning rate scheduler\n",
    "milestones = [150000]\n",
    "milestones = [500, 1000, 2000, 3000, 5000, 15000, 20000, 25000, 30000 , 40000 , 50000, 80000]\n",
    "scheduler = optim.lr_scheduler.StepLR(optimizer, step_size=1000, gamma=0.1)\n",
    "scheduler = optim.lr_scheduler.MultiStepLR(optimizer, milestones=milestones, gamma=0.6)\n",
    "\n",
    "# Move the model to the GPU\n",
    "vit_model.to(device)\n",
    "\n",
    "num_epochs = 1_600_000\n",
    "\n",
    "# Parameters for Gaussian noise\n",
    "mean = 0\n",
    "std_dev = 0.5  \n",
    "\n",
    "\n",
    "# Training loop\n",
    "def train_model(model, optimizer, scheduler, dataloader, target_loss=1e-8):\n",
    "    model.train()\n",
    "    with tqdm(total=num_epochs, desc=\"Processing\") as pbar:\n",
    "        noise_counter = 0\n",
    "        for epoch in range(num_epochs):\n",
    "            running_loss = 0.0\n",
    "            for images, _ in dataloader:\n",
    "                # Move the images to the GPU\n",
    "                images = images.to(device)\n",
    "                optimizer.zero_grad()\n",
    "                # Add Gaussian noise\n",
    "                noises = torch.normal(mean, std_dev, size=images.shape[-2:]).to(device)\n",
    "\n",
    "\n",
    "                noisy_images = images + noises\n",
    "                outputs = model(noisy_images)\n",
    "                loss = criterion(outputs, images)\n",
    "                loss.backward()\n",
    "                optimizer.step()\n",
    "\n",
    "                running_loss += loss.item()\n",
    "\n",
    "            avg_loss = running_loss / len(dataloader)\n",
    "            pbar.set_postfix({'Loss:': f'{avg_loss}'})\n",
    "            pbar.update(1)\n",
    "\n",
    "            scheduler.step()\n",
    "\n",
    "            if epoch % 2500 == 0 and epoch != 0:\n",
    "                torch.save(model.state_dict(), f'./cifar_8_noise_no_final_layer_4/epoch_{epoch}_model_{avg_loss:.8f}.pth')\n",
    "\n",
    "            # Save intermediate models\n",
    "            if avg_loss <= target_loss:\n",
    "                torch.save(model.state_dict(), f'./cifar_8_noise_no_final_layer_4/model_{avg_loss:.8f}.pth')\n",
    "                break\n",
    "\n",
    "# Train the model\n",
    "train_model(vit_model, optimizer, scheduler, train_loader)\n"
   ]
  },
  {
   "cell_type": "code",
   "execution_count": 13,
   "metadata": {},
   "outputs": [],
   "source": [
    "def lines_herizontal_noise(img, number_of_lines=5, line_width=2, noise_value=None, return_noise=False):\n",
    "    h, w = img.shape[-2:]\n",
    "    white_space_size = 1\n",
    "    square_size = number_of_lines * (2 + white_space_size) # 1 is the space between lines\n",
    "    start_pos   = (h - square_size) // 2\n",
    "    end_pos = start_pos + square_size\n",
    "\n",
    "    noise = noise_value if noise_value else 2 * (torch.rand((line_width, square_size)) - 1)\n",
    "\n",
    "    img_noisy = img.clone()\n",
    "    noise_out = torch.ones((h, w)) * -1\n",
    "    for i in range(number_of_lines):\n",
    "        img_noisy[:,:,start_pos + (i * (line_width + white_space_size)): start_pos + (i * (line_width + white_space_size)) + line_width, start_pos: end_pos] = noise\n",
    "        noise_out[start_pos + (i * (line_width + white_space_size)): start_pos + (i * (line_width + white_space_size)) + line_width, start_pos: end_pos] = noise\n",
    "\n",
    "    if return_noise:\n",
    "        return img_noisy, noise_out\n",
    "    return img_noisy"
   ]
  },
  {
   "cell_type": "code",
   "execution_count": 14,
   "metadata": {},
   "outputs": [],
   "source": [
    "def right_side_noise(img, noise_value=None, return_noise=False):\n",
    "    h, w = img.shape[-2:]\n",
    "    noise = 2 * (torch.rand((h, w // 4)) - 1)\n",
    "\n",
    "\n",
    "    img_noisy = img.clone()\n",
    "    img_noisy[:,:,:, ((w + 1) // 4) * 3:] = noise_value if noise_value else noise\n",
    "    noise_out = torch.ones((h, w)) * -1\n",
    "    noise_out[:, ((w + 1) // 4) * 3:] = noise_value if noise_value else noise\n",
    "\n",
    "    if return_noise:\n",
    "        return img_noisy, noise_out\n",
    "    return img_noisy"
   ]
  },
  {
   "cell_type": "code",
   "execution_count": 15,
   "metadata": {},
   "outputs": [],
   "source": [
    "def bottom_noise(img, noise_value=None, return_noise=False):\n",
    "    h, w = img.shape[-2:]\n",
    "    noise = 2 * (torch.rand((h // 4, w)) - 1)\n",
    "\n",
    "\n",
    "    img_noisy = img.clone()\n",
    "    \n",
    "    img_noisy[:,:, ((h + 1) // 4) * 3:,:] = noise_value if noise_value else noise\n",
    "    noise_out = torch.ones((h, w)) * -1\n",
    "    noise_out[((h + 1) // 4) * 3:,:] = noise_value if noise_value else noise\n",
    "\n",
    "    if return_noise:\n",
    "        return img_noisy, noise_out\n",
    "    return img_noisy"
   ]
  },
  {
   "cell_type": "code",
   "execution_count": 16,
   "metadata": {},
   "outputs": [],
   "source": [
    "def square_noise(img, noise_size = 14, noise_value=None, return_noise=False):\n",
    "    h, w = img.shape[-2:]\n",
    "\n",
    "    img_noisy = img.clone()\n",
    "\n",
    "    start_pos = (h - noise_size) // 2\n",
    "    end_pos = start_pos + noise_size\n",
    "\n",
    "    noise = noise_value if noise_value else 2 * (torch.rand((noise_size, noise_size)) - 0.9)\n",
    "    img_noisy[:,:,start_pos: end_pos, start_pos:end_pos] = noise\n",
    "    m = torch.ones((h, w)) * -1\n",
    "    m[start_pos: end_pos, start_pos:end_pos] = noise\n",
    "    noise = m\n",
    "    if return_noise:\n",
    "        return img_noisy, noise\n",
    "    return img_noisy"
   ]
  },
  {
   "cell_type": "code",
   "execution_count": 17,
   "metadata": {},
   "outputs": [],
   "source": [
    "def cross_noise(img, width=5, noise_value=1, return_noise=False):\n",
    "    h, w = img.shape[-2:]\n",
    "\n",
    "    img_noisy = img.clone()\n",
    "    noise = torch.ones((h, w)) * -1\n",
    "    for i in range(h-width):\n",
    "        noise[i:i+width,i] = noise_value\n",
    "        img_noisy[:,:,i:i+width,i] = noise_value\n",
    "        \n",
    "    if return_noise:\n",
    "        return img_noisy, noise\n",
    "    return img_noisy\n",
    "\n",
    "def tringle_noise (img, width=11, noise_value=1, return_noise=False):\n",
    "    h, w = img.shape[-2:]\n",
    "\n",
    "    start_row = w // 2\n",
    "    start_col = h // 4\n",
    "\n",
    "    noise = torch.ones((h, w)) * -1\n",
    "    img_noisy = img.clone()\n",
    "    for i in range(width):\n",
    "        noise[start_col+i,start_row-i:start_row+i] = noise_value\n",
    "        img_noisy[:,:,start_col+i,start_row-i:start_row+i] = noise_value\n",
    "    \n",
    "    if return_noise:\n",
    "        return img_noisy, noise\n",
    "    return img_noisy"
   ]
  },
  {
   "cell_type": "code",
   "execution_count": 18,
   "metadata": {},
   "outputs": [],
   "source": [
    "def apply_noise(images, noise_func):\n",
    "    with torch.no_grad():\n",
    "        print_images(images.cpu())\n",
    "        noised_image = noise_func(images.cpu())\n",
    "        print_images(noised_image)\n",
    "        noises = torch.normal(mean, std_dev + (torch.rand(1)[0] / 200000), size=images.shape[-2:]).to(device)\n",
    "        outputs = vit_model(noised_image.to(device) + noises)\n",
    "        print_images(outputs.cpu())\n",
    "        for i in range(10):\n",
    "            outputs = vit_model(outputs + noises)\n",
    "            if i % 2 == 1:\n",
    "                print_images(outputs.cpu())\n",
    "    \n",
    "def count_noise(images, noise_func, epsilon =1e-4):\n",
    "    with torch.no_grad():\n",
    "        noised_image = noise_func(images.cpu())\n",
    "        noises = torch.normal(mean, std_dev, size=images.shape[-2:]).to(device)\n",
    "        outputs = vit_model(noised_image.to(device) + noises)\n",
    "        for i in range(100):\n",
    "            outputs = vit_model(outputs + noises)\n",
    "        criterion = nn.MSELoss(reduction='none')\n",
    "\n",
    "        loss = criterion(outputs.cpu(), images.cpu())  # Shape: (b, c, w, h)\n",
    "        \n",
    "        loss_per_batch = loss.mean(dim=(1, 2, 3))  # Shape: (b,)\n",
    "        \n",
    "        count = torch.sum(loss_per_batch < epsilon).item()\n",
    "        \n",
    "        return(f'{count}/{images.shape[0]}')\n"
   ]
  },
  {
   "cell_type": "code",
   "execution_count": 19,
   "metadata": {},
   "outputs": [],
   "source": [
    "def apply_noise(images, noise_func):\n",
    "    with torch.no_grad():\n",
    "        print_images(images.cpu())\n",
    "        noised_image = noise_func(images.cpu())\n",
    "        print_images(noised_image)\n",
    "        noises = torch.normal(mean, std_dev + (torch.rand(1)[0] / 200000), size=images.shape[-2:]).to(device)\n",
    "        outputs = vit_model(noised_image.to(device) + noises)\n",
    "        print_images(outputs.cpu())\n",
    "        for i in range(10):\n",
    "            outputs = vit_model(outputs + noises)\n",
    "            if i % 2 == 1:\n",
    "                print_images(outputs.cpu())"
   ]
  },
  {
   "cell_type": "code",
   "execution_count": 20,
   "metadata": {},
   "outputs": [],
   "source": [
    "def apply_noise_signle(images, noise_func):\n",
    "    with torch.no_grad():\n",
    "        images_lst = []\n",
    "        # images_lst.append(images.cpu())\n",
    "        noised_image = noise_func(images.cpu())\n",
    "        images_lst.append(noised_image)\n",
    "        # noises = torch.normal(mean, std_dev , size=images.shape[-2:]).to(device)\n",
    "        noises = torch.normal(mean, std_dev + (torch.rand(1)[0] / 200000), size=images.shape[-2:]).to(device)\n",
    "        outputs = vit_model(noised_image.to(device) + noises)\n",
    "        # images_lst.append(outputs.cpu())\n",
    "        for i in range(100):\n",
    "            outputs = vit_model(outputs + noises)\n",
    "            # if i % 2 == 1:\n",
    "            #     images_lst.append(outputs.cpu())\n",
    "        images_lst.append(outputs.cpu())\n",
    "        print_images(torch.stack(images_lst))"
   ]
  },
  {
   "cell_type": "code",
   "execution_count": 21,
   "metadata": {},
   "outputs": [],
   "source": [
    "index = 40\n",
    "s = sample_images#[8+index:29+index]\n",
    "# print_images(s)\n",
    "noises = []\n",
    "scores = [] \n",
    "noises.append(cross_noise(s, return_noise=True)[1])\n",
    "scores.append(count_noise(s, cross_noise))\n",
    "\n",
    "noises.append(lines_herizontal_noise(s, number_of_lines=5, noise_value=1, return_noise=True)[1])\n",
    "scores.append(count_noise(s, lambda x: lines_herizontal_noise(x, number_of_lines=5, noise_value=1)))\n",
    "\n",
    "# Square noise\n",
    "noises.append(square_noise(s, return_noise=True)[1])\n",
    "scores.append(count_noise(s, lambda x: square_noise(x)))\n",
    "\n",
    "# Triangle noise\n",
    "noises.append(tringle_noise(s, return_noise=True)[1])\n",
    "scores.append(count_noise(s, tringle_noise))\n",
    "\n",
    "# Right-side noise (default value)\n",
    "noises.append(right_side_noise(s, return_noise=True)[1])\n",
    "scores.append(count_noise(s, lambda x: right_side_noise(x)))\n",
    "\n",
    "# Right-side noise with value 1\n",
    "noises.append(right_side_noise(s, 1, return_noise=True)[1])\n",
    "scores.append(count_noise(s, lambda x: right_side_noise(x, 1)))\n",
    "\n",
    "# Bottom noise (default value)\n",
    "noises.append(bottom_noise(s, return_noise=True)[1])\n",
    "scores.append(count_noise(s, lambda x: bottom_noise(x)))\n",
    "\n",
    "# Bottom noise with value 1\n",
    "noises.append(bottom_noise(s, 1, return_noise=True)[1])\n",
    "scores.append(count_noise(s, lambda x: bottom_noise(x, 1)))"
   ]
  },
  {
   "cell_type": "code",
   "execution_count": 22,
   "metadata": {},
   "outputs": [],
   "source": [
    "import matplotlib.pyplot as plt\n",
    "\n",
    "def plot_images_with_titles(images, titles):\n",
    "    # Number of images\n",
    "    n = len(images)\n",
    "    \n",
    "    # Create a figure and set the size\n",
    "    fig, axes = plt.subplots(2, 4, figsize=(7, 4))\n",
    "    axes = axes.flatten()  # Flatten the 2D array to 1D for easy iteration\n",
    "    \n",
    "    for i in range(n):\n",
    "        ax = axes[i]\n",
    "        ax.imshow(images[i], cmap='gray')  # Display image\n",
    "        ax.set_title(titles[i])  # Set title\n",
    "        ax.axis('off')  # Hide axis\n",
    "    \n",
    "    # Hide any unused subplots\n",
    "    for i in range(n, len(axes)):\n",
    "        axes[i].axis('off')\n",
    "    \n",
    "    plt.tight_layout()\n",
    "    plt.show()"
   ]
  },
  {
   "cell_type": "code",
   "execution_count": 23,
   "metadata": {},
   "outputs": [
    {
     "data": {
      "image/png": "[encoded data removed]",
      "text/plain": [
       "<Figure size 700x400 with 8 Axes>"
      ]
     },
     "metadata": {},
     "output_type": "display_data"
    }
   ],
   "source": [
    "plot_images_with_titles(noises, scores)"
   ]
  },
  {
   "cell_type": "code",
   "execution_count": null,
   "metadata": {},
   "outputs": [],
   "source": [
    "apply_noise(s, lambda x: lines_herizontal_noise(x, number_of_lines=5, noise_value=1))\n",
    "print('---------------------')\n",
    "apply_noise(s, cross_noise)\n",
    "print('---------------------')\n",
    "apply_noise(s, tringle_noise)\n",
    "print('---------------------')\n",
    "# apply_noise(s, lambda x: right_side_noise(x))\n",
    "print('---------------------')\n",
    "apply_noise(s, lambda x: right_side_noise(x, 1))\n",
    "print('---------------------')\n",
    "# apply_noise(s, lambda x: bottom_noise(x))\n",
    "print('---------------------')\n",
    "apply_noise(s, lambda x: bottom_noise(x, 1))"
   ]
  },
  {
   "cell_type": "code",
   "execution_count": null,
   "metadata": {},
   "outputs": [],
   "source": []
  }
 ],
 "metadata": {
  "kernelspec": {
   "display_name": "Dcv",
   "language": "python",
   "name": "python3"
  },
  "language_info": {
   "codemirror_mode": {
    "name": "ipython",
    "version": 3
   },
   "file_extension": ".py",
   "mimetype": "text/x-python",
   "name": "python",
   "nbconvert_exporter": "python",
   "pygments_lexer": "ipython3",
   "version": "3.8.19"
  }
 },
 "nbformat": 4,
 "nbformat_minor": 2
}
